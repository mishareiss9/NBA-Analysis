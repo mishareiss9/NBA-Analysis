{
 "cells": [
  {
   "cell_type": "code",
   "execution_count": null,
   "id": "4911d5bf-5a39-4cbd-9ccf-e330ab9f1811",
   "metadata": {},
   "outputs": [],
   "source": [
    "import pandas as pd\n",
    "import requests\n",
    "pd.set_option('display.max_columns', None) # allows viewing of all columns in a wide DataFrame\n",
    "import time\n",
    "import numpy as np\n",
    "import plotly.express as px\n",
    "import plotly.graph_objects as go"
   ]
  },
  {
   "cell_type": "markdown",
   "id": "50741cca-bfb8-4937-9f6e-5ef82b2d1fd7",
   "metadata": {},
   "source": [
    "## Scraping Player Data"
   ]
  },
  {
   "cell_type": "code",
   "execution_count": null,
   "id": "218e5b5f-a897-40c6-b3a3-8017ad9382d1",
   "metadata": {},
   "outputs": [],
   "source": [
    "test_url = 'https://stats.nba.com/stats/leagueLeaders?LeagueID=00&PerMode=Totals&Scope=S&Season=2012-13&SeasonType=Regular%20Season&StatCategory=PTS'"
   ]
  },
  {
   "cell_type": "code",
   "execution_count": null,
   "id": "f6b0befd-b523-42be-8618-b65622cfd43c",
   "metadata": {},
   "outputs": [],
   "source": [
    "r = requests.get(url = test_url).json()"
   ]
  },
  {
   "cell_type": "code",
   "execution_count": null,
   "id": "16f7a881-6714-41c9-a673-99eac88f9bfe",
   "metadata": {},
   "outputs": [],
   "source": [
    "# Create variable for the column headers\n",
    "\n",
    "table_headers = r['resultSet']['headers']"
   ]
  },
  {
   "cell_type": "code",
   "execution_count": null,
   "id": "e2928cec-8716-4805-9a2c-30abca295db9",
   "metadata": {},
   "outputs": [],
   "source": [
    "# Add Year and Season Type to column variable\n",
    "\n",
    "df_cols = ['Year', 'Season_type'] + table_headers\n",
    "\n",
    "# Initialize DataFrame with the correct column names and number of columns\n",
    "\n",
    "df = pd.DataFrame(columns=df_cols)\n",
    "\n",
    "# Create variables for the season types and season years we will be analyzing \n",
    "season_types = ['Regular%20Season', 'Playoffs']\n",
    "years = ['2012-13', '2013-14', '2014-15', '2015-16', '2016-17', '2017-18', '2018-19', '2019-20', '2020-21', '2021-22', '2022-23']\n",
    "\n",
    "begin_loop = time.time()\n",
    "\n",
    "# Concatenate the data for each NBA regular season and playoffs from 2012 to 2023\n",
    "\n",
    "for y in years:\n",
    "    for s in season_types:\n",
    "        api_url = 'https://stats.nba.com/stats/leagueLeaders?LeagueID=00&PerMode=Totals&Scope=S&Season='+y+'&SeasonType='+s+'&StatCategory=PTS'\n",
    "        r = requests.get(url=api_url).json()\n",
    "        temp_df1 = pd.DataFrame(r['resultSet']['rowSet'], columns = table_headers)\n",
    "        temp_df2 = pd.DataFrame({'Year':[y for i in range(len(temp_df1))], \n",
    "                                 'Season_type':[s for i in range(len(temp_df1))]})\n",
    "        temp_df3 = pd.concat([temp_df2, temp_df1], axis=1)\n",
    "        df = pd.concat([df, temp_df3], axis=0)\n",
    "        print(f'Finished scraping data for the {y} {s}.')\n",
    "        lag = np.random.uniform(low=5,high=40)\n",
    "        print(f'...waiting {round(lag, 1)} seconds')\n",
    "        time.sleep(lag)\n",
    "        \n",
    "print(f'Process completed! Total run time: {round((time.time()-begin_loop)/60, 2)}')\n",
    "\n",
    "df.to_excel('nba_player_data.xlsx', index=False)"
   ]
  }
 ],
 "metadata": {
  "kernelspec": {
   "display_name": "Python 3 (ipykernel)",
   "language": "python",
   "name": "python3"
  },
  "language_info": {
   "codemirror_mode": {
    "name": "ipython",
    "version": 3
   },
   "file_extension": ".py",
   "mimetype": "text/x-python",
   "name": "python",
   "nbconvert_exporter": "python",
   "pygments_lexer": "ipython3",
   "version": "3.9.12"
  }
 },
 "nbformat": 4,
 "nbformat_minor": 5
}
